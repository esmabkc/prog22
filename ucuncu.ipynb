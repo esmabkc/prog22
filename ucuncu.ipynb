{
 "cells": [
  {
   "cell_type": "code",
   "execution_count": 6,
   "metadata": {},
   "outputs": [
    {
     "ename": "SystemExit",
     "evalue": "",
     "output_type": "error",
     "traceback": [
      "An exception has occurred, use %tb to see the full traceback.\n",
      "\u001b[1;31mSystemExit\u001b[0m\n"
     ]
    },
    {
     "name": "stderr",
     "output_type": "stream",
     "text": [
      "C:\\Users\\esma\\AppData\\Local\\Packages\\PythonSoftwareFoundation.Python.3.10_qbz5n2kfra8p0\\LocalCache\\local-packages\\Python310\\site-packages\\IPython\\core\\interactiveshell.py:3441: UserWarning: To exit: use 'exit', 'quit', or Ctrl-D.\n",
      "  warn(\"To exit: use 'exit', 'quit', or Ctrl-D.\", stacklevel=1)\n"
     ]
    }
   ],
   "source": [
    "import pygame as pg\n",
    "import sys\n",
    "pg.init()\n",
    "en,boy=800,600\n",
    "siyah=0,0,255\n",
    "# RGB 0-255\n",
    "beyaz=255,0,255\n",
    "ekran=pg.display.set_mode((en,boy))\n",
    "x,y=en//2,boy//2\n",
    "y_cap=30\n",
    "x_speed=y_speed=1\n",
    "while True:\n",
    "    for event in pg.event.get():\n",
    "        if event.type==pg.QUIT:\n",
    "            sys.exit();\n",
    "            ekran.fill(siyah)\n",
    "            pp.draw.circle(ekran,beyaz,(x,y),y_cap)\n",
    "            x +=x_speed\n",
    "            y +=y_speed\n",
    "            if x>=en-y_cap:\n",
    "                x_speed *= -1\n",
    "                if x<=0 + y_cap:\n",
    "                    x_speed *= -1\n",
    "                    if y >= boy -y_cap:\n",
    "                        y_speed *= -1\n",
    "                        if y<=0 + y_cap:\n",
    "                            y_speed *= -1\n",
    "                            pg.display.flip"
   ]
  },
  {
   "cell_type": "code",
   "execution_count": null,
   "metadata": {},
   "outputs": [],
   "source": []
  }
 ],
 "metadata": {
  "kernelspec": {
   "display_name": "Python 3.10.8 64-bit (microsoft store)",
   "language": "python",
   "name": "python3"
  },
  "language_info": {
   "codemirror_mode": {
    "name": "ipython",
    "version": 3
   },
   "file_extension": ".py",
   "mimetype": "text/x-python",
   "name": "python",
   "nbconvert_exporter": "python",
   "pygments_lexer": "ipython3",
   "version": "3.10.8"
  },
  "orig_nbformat": 4,
  "vscode": {
   "interpreter": {
    "hash": "329a8d6b14e1768cfc0a6f9b75284aba525c2578dcebd344d89b659d6c626d73"
   }
  }
 },
 "nbformat": 4,
 "nbformat_minor": 2
}
